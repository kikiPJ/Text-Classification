{
 "cells": [
  {
   "cell_type": "code",
   "execution_count": 1,
   "metadata": {},
   "outputs": [
    {
     "name": "stdout",
     "output_type": "stream",
     "text": [
      "[nltk_data] Downloading package stopwords to\n",
      "[nltk_data]     C:\\Users\\ACER\\AppData\\Roaming\\nltk_data...\n",
      "[nltk_data]   Package stopwords is already up-to-date!\n"
     ]
    }
   ],
   "source": [
    "import pandas as pd\n",
    "import numpy as np\n",
    "import re,string, unicodedata\n",
    "import nltk\n",
    "from sklearn.datasets import load_files\n",
    "nltk.download('stopwords')\n",
    "import pickle\n",
    "from nltk.corpus import stopwords\n",
    "from sklearn.preprocessing import normalize\n",
    "import scipy"
   ]
  },
  {
   "cell_type": "code",
   "execution_count": 2,
   "metadata": {},
   "outputs": [
    {
     "name": "stderr",
     "output_type": "stream",
     "text": [
      "C:\\Users\\ACER\\Anaconda3\\lib\\site-packages\\sklearn\\cross_validation.py:41: DeprecationWarning: This module was deprecated in version 0.18 in favor of the model_selection module into which all the refactored classes and functions are moved. Also note that the interface of the new CV iterators are different from that of this module. This module will be removed in 0.20.\n",
      "  \"This module will be removed in 0.20.\", DeprecationWarning)\n"
     ]
    }
   ],
   "source": [
    "import csv\n",
    "import sklearn\n",
    "from sklearn.feature_extraction.text import CountVectorizer,TfidfTransformer\n",
    "import time\n",
    "\n",
    "from sklearn.pipeline import Pipeline\n",
    "from sklearn.cross_validation import StratifiedKFold, cross_val_score, train_test_split \n",
    "from sklearn.decomposition import NMF, LatentDirichletAllocation\n",
    "from sklearn.naive_bayes import MultinomialNB\n",
    "from sklearn.svm import LinearSVC\n",
    "from sklearn.metrics import classification_report, f1_score, accuracy_score, confusion_matrix"
   ]
  },
  {
   "cell_type": "code",
   "execution_count": 12,
   "metadata": {},
   "outputs": [
    {
     "data": {
      "text/html": [
       "<div>\n",
       "<style scoped>\n",
       "    .dataframe tbody tr th:only-of-type {\n",
       "        vertical-align: middle;\n",
       "    }\n",
       "\n",
       "    .dataframe tbody tr th {\n",
       "        vertical-align: top;\n",
       "    }\n",
       "\n",
       "    .dataframe thead th {\n",
       "        text-align: right;\n",
       "    }\n",
       "</style>\n",
       "<table border=\"1\" class=\"dataframe\">\n",
       "  <thead>\n",
       "    <tr style=\"text-align: right;\">\n",
       "      <th></th>\n",
       "      <th>publish_date</th>\n",
       "      <th>headline_category</th>\n",
       "      <th>headline_text</th>\n",
       "    </tr>\n",
       "  </thead>\n",
       "  <tbody>\n",
       "    <tr>\n",
       "      <th>0</th>\n",
       "      <td>20110208</td>\n",
       "      <td>tech</td>\n",
       "      <td>HP unveils reclining PC to rival iPad</td>\n",
       "    </tr>\n",
       "    <tr>\n",
       "      <th>1</th>\n",
       "      <td>20110208</td>\n",
       "      <td>tech</td>\n",
       "      <td>Intel to ship flawed chipsets</td>\n",
       "    </tr>\n",
       "    <tr>\n",
       "      <th>2</th>\n",
       "      <td>20110208</td>\n",
       "      <td>tech</td>\n",
       "      <td>10 best IT companies to work for in 2011</td>\n",
       "    </tr>\n",
       "    <tr>\n",
       "      <th>3</th>\n",
       "      <td>20110208</td>\n",
       "      <td>tech</td>\n",
       "      <td>Android beats iPhone in US</td>\n",
       "    </tr>\n",
       "    <tr>\n",
       "      <th>4</th>\n",
       "      <td>20110208</td>\n",
       "      <td>tech</td>\n",
       "      <td>Microsoft to reshuffle management</td>\n",
       "    </tr>\n",
       "  </tbody>\n",
       "</table>\n",
       "</div>"
      ],
      "text/plain": [
       "   publish_date headline_category                             headline_text\n",
       "0      20110208              tech     HP unveils reclining PC to rival iPad\n",
       "1      20110208              tech             Intel to ship flawed chipsets\n",
       "2      20110208              tech  10 best IT companies to work for in 2011\n",
       "3      20110208              tech                Android beats iPhone in US\n",
       "4      20110208              tech         Microsoft to reshuffle management"
      ]
     },
     "execution_count": 12,
     "metadata": {},
     "output_type": "execute_result"
    }
   ],
   "source": [
    "#Baca data CSV dengan pandas\n",
    "df = pd.read_csv('../Natural Processing Language/india-news-headlines.csv')\n",
    "\n",
    "df.head()"
   ]
  },
  {
   "cell_type": "code",
   "execution_count": 13,
   "metadata": {},
   "outputs": [
    {
     "name": "stdout",
     "output_type": "stream",
     "text": [
      "headline_category\n",
      "auto                                       3\n",
      "city.ahmedabad                            13\n",
      "city.bengaluru                            15\n",
      "city.chandigarh                           23\n",
      "city.chennai                              16\n",
      "city.delhi                                33\n",
      "city.goa                                  24\n",
      "city.gurgaon                              10\n",
      "city.hubballi                             10\n",
      "city.hyderabad                            16\n",
      "city.jaipur                               14\n",
      "city.kanpur                                9\n",
      "city.kolkata                              18\n",
      "city.lucknow                              18\n",
      "city.ludhiana                              5\n",
      "entertainment.events.delhi                 2\n",
      "entertainment.hindi.bollywood.news        16\n",
      "entertainment.hindi.bollywood.previews     1\n",
      "entertainment.hindi.music.news             1\n",
      "gadgets-special                            2\n",
      "home.environment.flora-fauna               1\n",
      "home.science                               7\n",
      "india                                     48\n",
      "tech                                       5\n",
      "unknown                                   29\n",
      "dtype: int64\n"
     ]
    }
   ],
   "source": [
    "#View berdasar topic\n",
    "groupby= df.groupby('headline_category').size()\n",
    "print (groupby)"
   ]
  },
  {
   "cell_type": "code",
   "execution_count": 14,
   "metadata": {},
   "outputs": [
    {
     "name": "stdout",
     "output_type": "stream",
     "text": [
      "(339,)\n",
      "     publish_date  headline_category  headline_text\n",
      "0           False              False          False\n",
      "1           False              False          False\n",
      "2           False              False          False\n",
      "3           False              False          False\n",
      "4           False              False          False\n",
      "5           False              False          False\n",
      "6           False              False          False\n",
      "7           False              False          False\n",
      "8           False              False          False\n",
      "9           False              False          False\n",
      "10          False              False          False\n",
      "11          False              False          False\n",
      "12          False              False          False\n",
      "13          False              False          False\n",
      "14          False              False          False\n",
      "15          False              False          False\n",
      "16          False              False          False\n",
      "17          False              False          False\n",
      "18          False              False          False\n",
      "19          False              False          False\n",
      "20          False              False          False\n",
      "21          False              False          False\n",
      "22          False              False          False\n",
      "23          False              False          False\n",
      "24          False              False          False\n",
      "25          False              False          False\n",
      "26          False              False          False\n",
      "27          False              False          False\n",
      "28          False              False          False\n",
      "29          False              False          False\n",
      "..            ...                ...            ...\n",
      "309         False              False          False\n",
      "310         False              False          False\n",
      "311         False              False          False\n",
      "312         False              False          False\n",
      "313         False              False          False\n",
      "314         False              False          False\n",
      "315         False              False          False\n",
      "316         False              False          False\n",
      "317         False              False          False\n",
      "318         False              False          False\n",
      "319         False              False          False\n",
      "320         False              False          False\n",
      "321         False              False          False\n",
      "322         False              False          False\n",
      "323         False              False          False\n",
      "324         False              False          False\n",
      "325         False              False          False\n",
      "326         False              False          False\n",
      "327         False              False          False\n",
      "328         False              False          False\n",
      "329         False              False          False\n",
      "330         False              False          False\n",
      "331         False              False          False\n",
      "332         False              False          False\n",
      "333         False              False          False\n",
      "334         False              False          False\n",
      "335         False              False          False\n",
      "336         False              False          False\n",
      "337         False              False          False\n",
      "338         False              False          False\n",
      "\n",
      "[339 rows x 3 columns]\n",
      "publish_date         0\n",
      "headline_category    0\n",
      "headline_text        0\n",
      "dtype: int64\n"
     ]
    }
   ],
   "source": [
    "#Cek data dan normalisasi\n",
    "#cek bila ada yang kosong\n",
    "cek_bentuk= df['headline_text'].shape\n",
    "cek_null=df.isnull()\n",
    "cek_jumlah_null=df.isnull().sum()\n",
    "\n",
    "print (cek_bentuk)\n",
    "print (cek_null)\n",
    "print (cek_jumlah_null)"
   ]
  },
  {
   "cell_type": "code",
   "execution_count": 15,
   "metadata": {},
   "outputs": [
    {
     "name": "stdout",
     "output_type": "stream",
     "text": [
      "(339,)\n",
      "     publish_date  headline_category  headline_text\n",
      "0           False              False          False\n",
      "1           False              False          False\n",
      "2           False              False          False\n",
      "3           False              False          False\n",
      "4           False              False          False\n",
      "5           False              False          False\n",
      "6           False              False          False\n",
      "7           False              False          False\n",
      "8           False              False          False\n",
      "9           False              False          False\n",
      "10          False              False          False\n",
      "11          False              False          False\n",
      "12          False              False          False\n",
      "13          False              False          False\n",
      "14          False              False          False\n",
      "15          False              False          False\n",
      "16          False              False          False\n",
      "17          False              False          False\n",
      "18          False              False          False\n",
      "19          False              False          False\n",
      "20          False              False          False\n",
      "21          False              False          False\n",
      "22          False              False          False\n",
      "23          False              False          False\n",
      "24          False              False          False\n",
      "25          False              False          False\n",
      "26          False              False          False\n",
      "27          False              False          False\n",
      "28          False              False          False\n",
      "29          False              False          False\n",
      "..            ...                ...            ...\n",
      "309         False              False          False\n",
      "310         False              False          False\n",
      "311         False              False          False\n",
      "312         False              False          False\n",
      "313         False              False          False\n",
      "314         False              False          False\n",
      "315         False              False          False\n",
      "316         False              False          False\n",
      "317         False              False          False\n",
      "318         False              False          False\n",
      "319         False              False          False\n",
      "320         False              False          False\n",
      "321         False              False          False\n",
      "322         False              False          False\n",
      "323         False              False          False\n",
      "324         False              False          False\n",
      "325         False              False          False\n",
      "326         False              False          False\n",
      "327         False              False          False\n",
      "328         False              False          False\n",
      "329         False              False          False\n",
      "330         False              False          False\n",
      "331         False              False          False\n",
      "332         False              False          False\n",
      "333         False              False          False\n",
      "334         False              False          False\n",
      "335         False              False          False\n",
      "336         False              False          False\n",
      "337         False              False          False\n",
      "338         False              False          False\n",
      "\n",
      "[339 rows x 3 columns]\n",
      "publish_date         0\n",
      "headline_category    0\n",
      "headline_text        0\n",
      "dtype: int64\n"
     ]
    }
   ],
   "source": [
    "#Drop/Hapus data yang kosong\n",
    "modifiedData = df.dropna()\n",
    "\n",
    "cek_bentuk= modifiedData['headline_text'].shape\n",
    "cek_null=modifiedData.isnull()\n",
    "cek_jumlah_null=modifiedData.isnull().sum()\n",
    "\n",
    "#Save Data yang sudah dimodifikasi\n",
    "modifiedData.to_csv('modifiedData.csv',index=False)\n",
    "\n",
    "print (cek_bentuk)\n",
    "print (cek_null)\n",
    "print (cek_jumlah_null)"
   ]
  },
  {
   "cell_type": "code",
   "execution_count": 17,
   "metadata": {},
   "outputs": [],
   "source": [
    "#Baca data CSV dengan pandas\n",
    "df = pd.read_csv('modifiedData.csv')\n",
    "Date=df['publish_date']\n",
    "Category= df['headline_category']\n",
    "Text = df['headline_text']"
   ]
  },
  {
   "cell_type": "code",
   "execution_count": 18,
   "metadata": {},
   "outputs": [],
   "source": [
    "#Pisahkan kata/tokenize data\n",
    "\n",
    "PK= [nltk.word_tokenize(PisahKata) for PisahKata in df['headline_text']]"
   ]
  },
  {
   "cell_type": "code",
   "execution_count": 19,
   "metadata": {},
   "outputs": [],
   "source": [
    "stopword = ['a','about','above','after','again','against','all','am','an',\n",
    "                 'and','any','are','arent','as','at','be','because','been',\n",
    "                 'before','being','below','between','both','but','by','cant','cannot',\n",
    "                 'could','couldnt','did','didnt','do','does','doesnt','doing','dont',\n",
    "                 'down','during','each','few','for','from','further','had','hadnt','has','hasnt','have','havent','having',\n",
    "                 'he','her','here','hers','herself','him','himself','his','how','i','if','in','into','is','it',\n",
    "                 'its','itself','me','more','most','must','my','myself','no','nor','not','of','off','on','once','only','or',\n",
    "                 'other','ought','our','ours','ourselves','out','over','own','same','she','should',\n",
    "                 'so','some','such','than','that','the','their','theirs','them','themselves','then','there',\n",
    "                 'these','they','this','those','through','to','too',\n",
    "                 'under','until','up','very','was','we','were','what','when','where','which','while','who','whom','why','with',\n",
    "                 'would','you','your','yours','yourself','yourselves']\n",
    "sw=[]\n",
    "\n",
    "for conten in PK:\n",
    "    kata= list(filter(lambda x: x not in stopword, conten))\n",
    "    sw.append(kata)\n",
    "\n",
    "df['stopword'] = sw"
   ]
  },
  {
   "cell_type": "code",
   "execution_count": 20,
   "metadata": {},
   "outputs": [],
   "source": [
    "#Ubah list ke str\n",
    "string = map(' '.join, sw)"
   ]
  },
  {
   "cell_type": "code",
   "execution_count": 21,
   "metadata": {},
   "outputs": [
    {
     "name": "stdout",
     "output_type": "stream",
     "text": [
      "[['HP', 'unveils', 'reclining', 'PC', 'rival', 'iPad'], ['Intel', 'ship', 'flawed', 'chipsets'], ['10', 'best', 'IT', 'companies', 'work', '2011'], ['Android', 'beats', 'iPhone', 'US'], ['Microsoft', 'reshuffle', 'management'], ['Two', 'Indian-Americans', 'serve', 'US', 'nuclear', 'trade', 'committee'], ['Table', 'tennis', 'tourney', 'Nagpur'], ['Cops', 'launch', 'probe', 'JNU', 'campus', 'porn', 'MMS'], ['Guard', 'rapes', '3-year-old', 'school'], ['Another', 'spectrum', 'scam', 'hits', 'govt'], ['Gautam', 'Gambhir', ':', 'Fire', 'way'], ['Meet', 'Team', 'India', \"'s\", 'dream', 'ODI', 'squad'], ['Shabana', 'Censor', 'Board', 'chief'], ['7', 'browsers', 'smartphone'], ['PF', 'primer', ':', 'What', 'Ponzi', 'scheme', '?'], ['Tax', 'info', 'pact', 'signed', 'Isle', 'Man'], ['JNU', 'student', 'sex', 'clip'], ['Vidya', 'pose', 'nude', 'Hussain'], ['Salman', 'ordered', 'court'], ['Venice', 'loses', 'Grand', 'Canal'], ['Celebs', 'caught', 'unaware', 'camera', '!'], ['Your', 'fav', 'Jagjit', 'Singh', 'song', '?'], ['Replacement', 'Praveen', 'Kumar', '?'], ['Will', 'women', 'ever', 'safe', 'India', '?'], ['In', 'pix', ':', 'Celebrity', \"'ouch\", \"'\", 'moments'], ['Mark', 'Wahlberg', 'challenges', 'real-life', 'boxers', '!'], ['I', 'kids', 'around', '33', ':', 'Katrina'], ['WC', ':', 'Sreesanth', 'replaces', 'injured', 'Praveen', 'Kumar'], ['Defence', 'firms', 'vie', 'India', 'orders'], ['Why', 'world', 'looks', 'gold'], ['10', 'best', 'IT', 'companies', 'work', '2011'], ['P', 'A', 'Sangma', \"'s\", 'cell', 'phone', '.', 'used', 'cheating'], ['CBI', 'gets', '2-day', 'extension', 'custody', 'A', 'Raja'], ['Review', ':', 'Necklace'], ['Hyundai', 'launch', '6', 'models', '3', 'years'], ['New', 'Tata', 'Manza', 'launched'], ['Launching', 'Feb', 'end', ':', 'The', 'Honda', 'Accord', 'Facelift'], ['Cops', 'educate', 'people', 'sexual', 'harassment'], ['Riot', 'relief', 'fund', 'used', 'illegal', 'buildings', '?'], ['Pharmacy', 'colleges', 'want', 'fee', 'hike'], ['Man', 'found', 'hanging', 'tree', 'Bapunagar'], ['Man', 'nabbed', 'stealing', 'car', 'Panchvati'], ['Class', 'VII', 'student', 'dies', 'mysteriously', 'school'], ['Three', 'plaints', 'Parmar'], ['Perfect', 'example', 'shrewd', 'white-collar', 'criminal', ':', 'Police'], ['Kerala', 'babu', 'takes', 'charge', 'Gujarat', 'tourism'], ['Civic', 'body', 'spends', 'Rs', '153', 'cr', 'consultants'], ['Flight', 'delay', 'causes', 'chaos'], ['Desi', 'designs', 'go', 'places', 'Dutch', 'exhibition'], ['Gujarat', 'HC', 'allows', 'rape', 'victim', 'terminate', 'pregnancy'], ['Yemenis', 'judicial', 'custody'], ['IIM-B', 'discuss', 'governance', 'change', 'today'], ['BU', 'exams', 'postponed'], ['State', 'Kannada', 'medium', 'instruction'], ['HC', 'upholds', 'Katta', 'Jr', \"'s\", 'legal', 'objections'], ['Govt', 'plans', 'police', 'stations', 'along', 'coastlines'], ['Posco', 'set', 'plant', 'Gadag'], ['They', 'write', 'study'], ['Just', 'one', 'textbook', 'semester'], ['Threat', 'calls', 'wo', \"n't\", 'stop', 'raids', ':', 'Ramdas'], ['3', 'brothers', 'commit', 'suicide', 'Gadag', 'district'], ['Betterment', 'fee', 'leaves', 'site', 'owners', 'fix'], ['Unscheduled', 'power', 'cuts', 'back'], ['Govt', 'depts', 'owe', 'BESCOM', 'several', 'crores'], ['Jharkhand', 'techie', 'falls', 'death'], ['Pt', 'Birju', 'Maharaj', 'enthral', 'city'], ['Justice', 'Gogoi', 'HC', 'chief', 'justice'], ['Man', 'duped', 'Rs', '12.2', 'lakh'], ['Ready', 'master', 'plan', 'March', '31', ':', 'MHA', 'UT'], ['Tradition', 'move'], ['Free', 'cab', 'service', 'cardiac', 'check'], ['300', 'computer', 'teachers', 'arrested'], ['Contractual', 'workers', 'PGI', 'threaten', 'strike'], ['HC', 'directs', 'CBSE', 'issue', 'admit', 'cards'], ['ID-proof', 'Tatkal', 'tickets'], ['Palli', 'criticizes', 'opposition'], ['Concept', 'plan', \"'Garden\", 'Springs', \"'\", 'finalized'], ['Mohali', 'municipal', 'corporation', 'refurbish', 'community', 'parks'], ['Police', 'traced', 'number', 'PCO', 'first', 'ransom', 'call', 'made'], ['RLA', 'accept', 'forms', 'week'], ['Surplus', 'veggies', 'prices'], [\"'Living\", \"'\", 'anxieties', 'stage'], ['Brain', 'bee', 'quiz', 'PGI'], ['Cops', 'rescue', 'kidnapped', 'boy', 'within', '8', 'hours'], ['Truant', 'online', 'applicants', 'trouble', 'RPO'], ['WC', 'puts', 'studies', 'backburner'], ['Halt', 'illegal', 'construction', 'green', 'belt', ':', 'MC'], ['Labradors', 'stars', 'city', \"'s\", 'dog', 'show'], ['Cops', 'crack', 'killing', 'painter'], ['HC', 'pulls', 'cops', 'arresting', 'teachers', 'strip-search', 'case'], ['City', 'police', 'crack', '65', 'cases', 'month'], ['Census', 'correct', 'anomaly', 'gender-critical', 'distrcts'], ['Cops', 'booked', 'sexual', 'assault'], ['Sun', 'shines', 'animal', 'enclosures', 'city', 'zoo'], ['Vehicles', 'spill', 'blood', 'green', 'IIT', 'campus'], ['Chennai', 'Sangamam', 'ads', \"n't\", 'name', 'Tamil', 'Maiyam', ':', 'Govt'], ['Constable', 'counsels', 'people', 'stop', 'smoking'], ['Spurned', 'woman'], ['Protest'], ['Milk', 'supply', 'hit', 'parts', 'strike'], ['Cylinder', 'blast', 'kills', '4', 'family', 'Katpadi'], ['Now'], ['HC', 'stalls', 'quarrying', 'near', 'ancient', 'temple'], ['Face', ':', 'Social', 'networking', 'stresses', 'kids'], ['Boy', 'stabbed', 'east', 'Delhi'], ['JNU', 'questions', 'students'], ['Court', 'order', 'Aarushi', 'case', 'today'], ['Class', '9', 'girl', 'raped', 'step', 'father'], ['24-year-old', 'proclaimed', 'offender', 'arrested', 'outer', 'Delhi'], ['Still', 'shock'], ['100', '%', 'placement', 'IIFT'], ['Complex', 'surgery', 'saves', 'life', '34-yr-old', 'TB', 'patient'], ['Delay', 'line', '3', 'six-coach', 'trains', 'line', '2'], ['Proposal', 'web-based', 'parking', 'solution'], ['MCD', 'demolish', 'foot-over-bridge', 'Daryaganj'], ['DIAL', 'lists', 'workers', '30'], ['Armed', 'robbery', 'Shahdara'], ['Cops', 'refuse', 'lodge', 'FIR', 'woman', 'loses', 'purse'], ['Centre', 'fund', 'wasted', 'Faridabad'], ['Part', 'road', 'caves', 'near', 'KG', 'Marg'], ['Dense', 'fog', 'disrupts', 'flight', 'schedules'], ['Gang', 'behind', 'blade', 'attack'], ['Row', 'upkeep', 'streetlights'], ['63-year-old'], ['Visa', 'racket', 'busted'], ['Caught', 'act'], ['Owner', 'came', 'home', 'early'], ['2', 'disabled', 'men', 'held', 'robbery', 'Delhi'], ['No', 'seat', 'tiny', 'tots'], ['Shiv', 'Murti', 'lowered', 'digging', 'ground'], ['Swanky', 'ISBT', 'make', 'bus', 'ride', 'comfy'], ['Woman', \"'s\", 'purse', 'stolen', 'cops', 'refuse', 'file', 'FIR'], ['House', 'gallows', 'dying', 'slow', 'death'], ['CBI', 'court', 'says', 'Talwars', 'tried', 'Aarushi-Hemraj', 'murder', 'case'], ['Chronology', 'Aarushi', 'murder', 'case'], ['Court', 'acquits', '7', 'men', \"'branded\", 'terrorists', \"'\", 'Delhi', 'Police'], ['JNU', 'porn', 'video', 'scandal', ':', 'Two', 'students', 'suspended'], ['High', 'court', 'rejects', 'Chimulkar', \"'s\", 'bail', 'plea'], ['No', 'scam', 'distribution', 'water', 'tanks'], ['When', 'Christian', 'Gawdas', 'danced', 'celebrate', 'Dhalo'], ['Godinho', 'refuses', 'Congress', 'post'], ['International', 'pathology', 'conference', 'GMC'], ['Benaulim', 'locals', 'vow', 'keep', 'village', 'plastic-free'], ['All', '38', 'cruise', 'vessels', 'GSPCB', 'approvals'], ['MMC', 'officials', 'embark', 'two-day', 'training', 'trip'], [\"'Reform\"], ['Narvekar', 'asks', 'govt', 'recover', '9.61', 'lakh', 'NOTE'], ['One', 'held', 'Ponda', 'theft', 'case'], [\"'Rice\"], ['Belgaum-Goa', 'vegetable', 'war', 'hots'], [\"'Multiple\", 'cuts', 'neck', 'led', 'Borkar', \"'s\", 'death', \"'\"], ['Babush', 'shuffles', 'CCP', 'poll', 'candidates'], ['Code', 'conduct', 'within', 'CCP', 'jurisdiction', 'Feb', '14'], ['GCA', 'pays', 'SAG', '17.69', 'lakh'], ['Tanker', 'mishap', ':', 'Disaster', 'officials', 'told', 'next', 'day'], ['ATF', 'affects', 'Ambora', 'locals'], ['Arihant', 'deposit', 'bank', 'guarantee', ':', 'Govt'], ['25-yr-old', 'dies', 'Margao', 'mishap'], ['Nationwide', 'census', 'begin', 'today'], ['Mickky', 'threatens', 'walk', 'NCP'], ['Stop', 'Karnataka', \"'s\", 'Mhadei', 'project'], ['Taxi-ing', 'times', ':', 'City', 'needs', 'reforms', 'public', 'transport', 'system'], ['Demolition'], ['Directory', 'enlist', 'Manesars', 'neglected'], ['Residents', 'around', 'IAF', 'depot', 'anxiously', 'wait', 'Feb', '15'], ['Stagnant', 'water', 'poses', 'health', 'hazards', 'school'], ['MCG', 'elections', 'biggest', 'challenge', 'new', 'chief'], ['Cops', 'make', 'headway', 'raid', 'Sec-31', 'house'], ['Watchman', 'objects', 'youths', 'drinking', 'campus'], ['An', 'ode', 'women', 'power'], ['Shift', 'ammunition', 'depot'], ['People', 'welcome', 'decision', 'hold', 'award', 'function', 'Annigeri'], ['KSP', 'officials', 'threaten', 'resign'], ['SWR', 'recruitment', 'drive', 'Feb', '21'], ['Bhangi', 'families', 'given', 'new', 'lease', 'life'], ['Workers', 'allow', 'transportation', 'chemical', 'factory'], ['Byatanal', 'project', 'bring', 'relief', 'many', 'villages'], ['Gang', 'robs', 'house', 'jewellery'], ['Scientists', \"'\", 'team', 'visit', 'Bijapur'], ['CBI', 'team', 'inspects', 'Anantpur', 'mining', 'company'], ['Gudigeri'], ['Census', 'cover', 'VIPs', 'Day', '1', 'today'], ['Govt', 'mulls', 'fine', 'building', 'deviations'], ['Minor', 'fire', 'Secunderabad', 'railway', 'station'], ['Comprehensive', 'traffic', 'study', 'city', 'March'], ['5', 'die', 'accidents'], ['Chiru', 'returns'], ['RTA', 'urges', 'people', 'avoid', 'middleman'], ['Rajasthan', 'cops', 'arrest', 'witness', 'Mecca', 'Masjid', 'case'], ['Pretty', 'Pink', '?'], ['Reserved', 'Eves'], ['Fatty', 'Empowerment', '?'], ['Flush', 'funds', 'anaemia', 'schemes', 'fail', 'cure'], ['Aap', 'katar', 'mein', 'hai'], ['Liberating', 'protests'], ['Many', 'Tri-Valleys', 'thriving', 'US'], ['Now'], ['Activists', 'politicising', 'Alwar', 'killing'], ['Heritage', 'walk', 'damp', 'squib'], ['Heritage', 'walk', 'four', 'routes'], ['Priest', 'stung', 'death', 'bees', 'haven'], ['CBSE', 'wants', 'parents', 'volunteer', 'spreading', 'awareness', 'CCE'], ['Dalai', 'Lama', 'gets', 'rousing', 'reception', 'Jodhpur'], ['Dacoits', 'kidnap', '8-year-old', 'boy', 'Dholpur'], ['Now'], ['Metro', 'supervisor'], ['ASI', 'ACB', 'net', 'taking', 'bribe'], ['Past', 'imperfect', ':', 'Census', 'fear', 'Rajasthan'], ['Students', 'debate', 'save', 'Man', 'Sagar', 'lake'], ['Chinkara', 'case', ':', 'Jodhpur', 'cops', 'determined', 'catch', 'Sallu', 'driver'], ['Three-layer', 'committee', 'Raj', 'census'], ['Two', 'die', 'accident'], ['Smriti', 'Irani', 'meets', 'rape', 'victim'], ['Officials', 'face', 'Maya', \"'s\", 'ire'], ['Probe', 'security', 'breach', 'Rahul', \"'s\", 'visit'], ['Six', 'handicapped', 'persons', 'injured', 'lathi-charge'], ['People', 'enjoyed', \"'powerful\", \"'\", 'day'], ['Thieves', 'take', 'away', 'cash'], ['CM', \"'s\", 'visit', 'throws', 'traffic', 'disarray'], ['City', 'turning', 'unsafe', 'women'], ['Four', 'lives', 'lost', 'accidents'], ['Dooars', 'crucial', 'N', 'Bengal', 'politics'], ['Hills', 'burns'], ['Engineer', 'rescued', 'kidnappers'], ['No', 'Silda', 'charge', 'yet', 'held', 'duo'], ['Sunderbans', 'get', 'green', 'power'], ['Woman'], ['Row', 'destroying', 'poppy'], ['A', 'street', 'Saraswati', 'reigns', 'supreme'], ['Property', 'tax', 'sops', 'poor'], ['BBD', 'Bag', 'finally', 'getting', 'makeover', 'match', '200-year-old', 'heritage'], ['CAB', 'press', 'India-Ireland', 'match'], ['Drug', 'promises', 'total', 'cure', 'psoriasis', 'patients'], ['Amartya', 'Sen', 'bereaved'], ['Sudden', 'rise', 'Ganga', 'water', 'level'], ['Rights', 'activists', 'hail', 'SC', 'ruling'], ['Sec', 'V', 'employees', 'ask', 'better', 'amenities'], ['Property', 'tax', 'sops', 'poor'], ['UP', 'spend', 'Rs', '4'], ['Rahul', 'accuses', 'Mayawati', 'stifling', 'Centre', \"'s\", 'schemes'], ['UP', 'Budget', 'anti-people', ':', 'Oppn'], ['Passport', 'facilitation', 'centres', 'yet', 'become', 'functional'], ['Rajdhani', 'express', 'extended', 'upto', 'Dibrugarh'], ['CII', 'welcomes', 'UP', 'budget', 'infrastructure', 'development'], ['Fund', 'crunch', 'chokes', 'work', '11', 'culverts'], ['Mayawati', 'gifts', 'Rs', '564', 'cr', 'Lucknow'], ['City', 'celebrates', 'onset', 'spring'], [\"'UP\", 'pays', 'Rs', '11'], ['CMO', 'murder', ':', 'Cops', 'now', 'focusing', 'arresting', 'Sudhakar'], ['Cops', 'crack', 'murder', 'case'], ['Two', 'held', 'murder'], ['Shop', 'selling', 'aluminium', 'products', 'catches', 'fire'], ['LU', 'comes', 'PhD', 'calender'], ['Chaotic', 'office', 'greets', 'passport', 'seekers'], ['RPO', 'authorises', '15', 'agents', 'submit', 'passport', 'forms'], ['UP', ':', 'Budget', 'targets', 'higher', 'development', 'trajectory'], ['Focal', 'Point', 'city', \"'s\", 'accident-prone', 'area'], ['Chocolate', 'Day', ':', 'Date', 'haze', 'fails', 'cut', 'sweetness'], ['HIV', 'test', 'babies', 'start', 'early'], ['Commuters', 'bump', 'along', 'Miller', 'Ganj', 'roads'], ['Is', 'NACO', 'failing', 'achieve', 'goal', '?'], ['Shiv', 'Karan', 'hosted', 'Dance', '&', 'Music', 'Nite'], ['Hao', 'Shi..', 'celebrated', 'Chinese', 'New', 'Year'], ['Mahie', 'God', '!', 'She', \"'s\", 'happy'], ['Ryan', ':', 'First', 'time', 'lucky', '?'], ['Kat'], ['Yeh', 'saala', 'credit'], ['Mallika', 'Sherawat', 'miffed', 'Sanjay', 'Dutt'], ['Sonam', 'Kapoor'], ['Salman'], ['Youngest', 'Khanna', 'emerges', 'hothouse'], [\"'Akshay\", 'seeks', 'Twinkle', \"'s\", 'opinion', \"'\"], ['Shahid', \"'s\", 'complex', 'medical', 'check'], ['3D', 'medium', 'future'], ['Ameesha', 'perform', 'National', 'Games'], ['Mehr', 'Jessia', \"'s\", 'wardrobe', 'malfunction'], ['Bollywood', 'film', 'studio', 'valued', 'Rs', '3000', 'crores'], ['Vinay', 'Pathak', 'Kachcha', 'Limbu'], ['SRK', \"'s\", 'Priyanka', \"'s\", 'dearest', 'hubby'], ['Tanu', 'Weds', 'Manu'], ['Ishq', 'Bector', 'censor', 'row'], ['Meet', 'HTC', 'Freestyle'], ['Olive', 'launches', 'HSPA+'], ['Policy', 'minimise', 'impact', 'wildlife', 'roads'], ['Now'], ['NZ', 'Terraces'], ['Faulty', 'chromosome', 'behind', 'sleepwalking'], ['Pessimism', 'genes'], ['Unhappy', 'meal', '?', 'Junk', 'food', 'lowers', 'children', \"'s\", 'IQ'], ['Mat', 'race', '?', 'Qigong', 'slowly', 'surely', 'catching', 'yoga'], ['Ageing', 'brain', \"'clogs\", 'network', \"'\"], ['Remove', 'food'], ['2G', 'scam', ':', 'A', 'Raja', \"'s\", 'CBI', 'custody', 'extended', '2', 'days'], ['Modasa', 'blast', ':', 'NIA', 'says', 'Samjhauta', 'accused'], ['BJP', 'concerned', 'SC', 'ruling', 'banned', 'groups'], ['Cloud', 'torpedo', 'deal', 'Scorpenes'], ['ISRO', 'takes', 'blame'], ['3', 'WWF-India', 'volunteers', 'released'], ['NAC', '&', 'govt', 'lock', 'horns'], ['Cong', 'amused', 'cop', 'cleaning', 'Maya', \"'s\", 'shoes'], [\"'Property\", 'details', 'exempt', 'RTI', \"'\"], ['Child', 'panel', 'head', 'says', 'priest', 'decide', 'child', 'needs', 'nutrition'], ['Maya', 'PSO'], ['Malenadu', 'Education', 'Society', 'turns', '50'], ['Punjab', 'villages', 'say', 'booze'], ['MES', 'alumni', 'fields', 'today'], ['Govt', 'backs', 'Mulayam', \"'s\", 'plea', 'CBI', 'probe', 'assets'], ['Naxals', 'set', 'release', '5', 'abducted', 'cops', 'Chhattisgarh', 'Feb', '11'], ['UID', 'project', 'faces', 'big', 'cut', 'budget'], ['CSE', 'finds', 'fault', 'MoEF', \"'s\", 'six-ciy', 'air', 'pollution', 'study'], ['Jupalli'], ['Chandrababu', 'Naidu', 'attacks', 'media', \"'poor\", 'coverage', \"'\"], ['Mystery', 'shrouds', 'prisoner', \"'s\", 'death', 'Tirupati'], ['Public', 'outcry', 'Vizag', 'corporator', \"'s\", 'proposed', 'family', 'trips'], ['Petition', 'AP', 'HC', 'plot', 'allotment', 'APIIC'], ['Chandrababu', 'Naidu', 'trying', 'woo', 'local', 'leaders', 'now'], ['Andhra', 'legislative', 'council', 'polls', 'March', '13'], ['Pilgrims', 'throng', 'Basar', 'Vasantha', 'Panchami'], ['Andhra', 'CM', 'hold', 'Rachchabanda', 'Telangana', 'amidst', 'heavy', 'security'], ['TRS', 'pile', 'pressure', 'Centre', 'Feb', '17'], ['NDRF', 'unit', 'come', 'Mangalagiri'], ['Congress', 'blinks'], [\"'Saffron\", 'maulanas', \"'\", 'preach', 'Sangh', 'values', 'Muslims'], ['Former', 'ISRO', 'top', 'brass', 'runs', 'show', 'Devas'], ['Spectrum', 'bidding', 'began', \"'08\", ':', 'Antrix', 'founder'], ['Ghalughara', 'anniversary', ':', 'SGPC', 'chief', 'turns', 'commemoration', 'political', 'battlefield'], ['Fissures', 'BJP', \"'s\", 'Tarn', 'Taran', 'unit'], ['CM', 'slams', 'Capt', \"'s\", 'remark', 'state', \"'s\", 'fiscal', 'health'], ['More', 'people', 'can', 'hop', 'onto', 'Bharat', 'Darshan', 'train'], ['Man', 'booked', 'raping', 'NRI'], ['Solar', 'power', 'project', 'Gurdaspur', 'dist'], ['Power', 'horns', ':', 'They', 'just', 'love', 'sound', '!'], ['2G', 'scam', ':', 'CBI', 'arrests', 'Balwa', 'Etisalat', 'DB'], ['Centre', 'changed', 'personal', 'laws', 'Hindus', ':', 'SC'], ['Dubai', 'loophole', 'helps', 'learn', 'unborn', \"'s\", 'sex'], ['Govt', 'unlikely', 'budget', 'new', 'aam', 'admi', 'schemes'], ['Midday', 'meal', 'scheme', 'get', 'paltry', 'hike', 'Rs', '6cr', 'year'], ['SP', 'MLA', 'held', 'Delhi', 'bomb', 'attack', 'UP', 'minister'], ['There', \"'s\", 'intent', 'restart', 'talks', ':', 'Nirupama', 'Rao']]\n"
     ]
    }
   ],
   "source": [
    "print(sw)"
   ]
  },
  {
   "cell_type": "code",
   "execution_count": 22,
   "metadata": {},
   "outputs": [
    {
     "name": "stdout",
     "output_type": "stream",
     "text": [
      "  (0, 535)\t0.40824829046386296\n",
      "  (0, 1178)\t0.40824829046386296\n",
      "  (0, 910)\t0.40824829046386296\n",
      "  (0, 806)\t0.40824829046386296\n",
      "  (0, 941)\t0.40824829046386296\n",
      "  (0, 561)\t0.40824829046386296\n",
      "  (1, 558)\t0.5\n",
      "  (1, 1008)\t0.5\n",
      "  (1, 436)\t0.5\n",
      "  (1, 239)\t0.5\n",
      "  (2, 1)\t0.4116197616118636\n",
      "  (2, 140)\t0.4116197616118636\n",
      "  (2, 573)\t0.4116197616118636\n",
      "  (2, 270)\t0.4116197616118636\n",
      "  (2, 1240)\t0.39095506040076144\n",
      "  (2, 11)\t0.4116197616118636\n",
      "  (3, 75)\t0.5138807034601669\n",
      "  (3, 126)\t0.5138807034601669\n",
      "  (3, 562)\t0.5138807034601669\n",
      "  (3, 1184)\t0.4558287703007044\n",
      "  (4, 694)\t0.5773502691896258\n",
      "  (4, 930)\t0.5773502691896258\n",
      "  (4, 659)\t0.5773502691896258\n",
      "  (5, 1184)\t0.3275660699706819\n",
      "  (5, 1169)\t0.30316314468406785\n",
      "  :\t:\n",
      "  (335, 31)\t0.42047008369461375\n",
      "  (335, 46)\t0.42047008369461375\n",
      "  (336, 1245)\t0.2791863012101625\n",
      "  (336, 978)\t0.33684160308784955\n",
      "  (336, 519)\t0.33684160308784955\n",
      "  (336, 951)\t0.2791863012101625\n",
      "  (336, 469)\t0.33684160308784955\n",
      "  (336, 679)\t0.33684160308784955\n",
      "  (336, 695)\t0.3606757343977216\n",
      "  (336, 789)\t0.3606757343977216\n",
      "  (336, 30)\t0.3606757343977216\n",
      "  (337, 331)\t0.3135897620615062\n",
      "  (337, 103)\t0.3567416037886995\n",
      "  (337, 513)\t0.3135897620615062\n",
      "  (337, 1179)\t0.3039931194946685\n",
      "  (337, 1037)\t0.3819838130361621\n",
      "  (337, 705)\t0.3819838130361621\n",
      "  (337, 159)\t0.3819838130361621\n",
      "  (337, 702)\t0.3819838130361621\n",
      "  (338, 1124)\t0.40824829046386296\n",
      "  (338, 559)\t0.40824829046386296\n",
      "  (338, 933)\t0.40824829046386296\n",
      "  (338, 1097)\t0.40824829046386296\n",
      "  (338, 749)\t0.40824829046386296\n",
      "  (338, 902)\t0.40824829046386296\n"
     ]
    }
   ],
   "source": [
    "#CountVector/raw count\n",
    "count_vect = CountVectorizer()\n",
    "count = count_vect.fit_transform(string)\n",
    "\n",
    "#tf-idf\n",
    "tf_transformer = TfidfTransformer().fit(count)\n",
    "X_train_tf = tf_transformer.transform(count)\n",
    "print (X_train_tf)"
   ]
  },
  {
   "cell_type": "code",
   "execution_count": 23,
   "metadata": {},
   "outputs": [
    {
     "name": "stdout",
     "output_type": "stream",
     "text": [
      "accuracy 0.9380530973451328\n",
      "(row=expected, col=predicted)\n",
      "                                        precision    recall  f1-score   support\n",
      "\n",
      "                                  auto       1.00      1.00      1.00         3\n",
      "                        city.ahmedabad       1.00      1.00      1.00        13\n",
      "                        city.bengaluru       1.00      0.93      0.97        15\n",
      "                       city.chandigarh       1.00      1.00      1.00        23\n",
      "                          city.chennai       1.00      0.81      0.90        16\n",
      "                            city.delhi       0.87      1.00      0.93        33\n",
      "                              city.goa       1.00      1.00      1.00        24\n",
      "                          city.gurgaon       1.00      0.90      0.95        10\n",
      "                         city.hubballi       1.00      0.90      0.95        10\n",
      "                        city.hyderabad       1.00      0.94      0.97        16\n",
      "                           city.jaipur       1.00      0.93      0.96        14\n",
      "                           city.kanpur       1.00      1.00      1.00         9\n",
      "                          city.kolkata       1.00      0.94      0.97        18\n",
      "                          city.lucknow       1.00      0.89      0.94        18\n",
      "                         city.ludhiana       1.00      1.00      1.00         5\n",
      "            entertainment.events.delhi       1.00      1.00      1.00         2\n",
      "    entertainment.hindi.bollywood.news       1.00      0.88      0.93        16\n",
      "entertainment.hindi.bollywood.previews       0.00      0.00      0.00         1\n",
      "        entertainment.hindi.music.news       0.00      0.00      0.00         1\n",
      "                       gadgets-special       0.00      0.00      0.00         2\n",
      "          home.environment.flora-fauna       1.00      1.00      1.00         1\n",
      "                          home.science       1.00      0.57      0.73         7\n",
      "                                 india       0.79      1.00      0.88        48\n",
      "                                  tech       1.00      0.80      0.89         5\n",
      "                               unknown       0.91      1.00      0.95        29\n",
      "\n",
      "                           avg / total       0.94      0.94      0.93       339\n",
      "\n"
     ]
    },
    {
     "name": "stderr",
     "output_type": "stream",
     "text": [
      "C:\\Users\\ACER\\Anaconda3\\lib\\site-packages\\sklearn\\metrics\\classification.py:1135: UndefinedMetricWarning: Precision and F-score are ill-defined and being set to 0.0 in labels with no predicted samples.\n",
      "  'precision', 'predicted', average, warn_for)\n"
     ]
    }
   ],
   "source": [
    "#Predictor Naive Bayes\n",
    "topic_modelling = MultinomialNB().fit(count, Category)\n",
    "\n",
    "prediksi_semua = topic_modelling.predict(count)\n",
    "\n",
    "print ('accuracy', accuracy_score(Category, prediksi_semua))\n",
    "print ('(row=expected, col=predicted)')\n",
    "print (classification_report(Category, prediksi_semua))"
   ]
  },
  {
   "cell_type": "code",
   "execution_count": 24,
   "metadata": {},
   "outputs": [
    {
     "name": "stderr",
     "output_type": "stream",
     "text": [
      "C:\\Users\\ACER\\Anaconda3\\lib\\site-packages\\sklearn\\cross_validation.py:553: Warning: The least populated class in y has only 1 members, which is too few. The minimum number of labels for any class cannot be less than n_folds=10.\n",
      "  % (min_labels, self.n_folds)), Warning)\n"
     ]
    },
    {
     "name": "stdout",
     "output_type": "stream",
     "text": [
      "[0.17391304 0.1627907  0.14634146 0.21621622 0.08571429 0.1875\n",
      " 0.13793103 0.32142857 0.2        0.2173913 ]\n",
      "0.18492266167569718 0.059204215038966314\n"
     ]
    }
   ],
   "source": [
    "#Performing klasifikasi dgn cross validation\n",
    "#Naive Bayes Classifier\n",
    "\n",
    "model = MultinomialNB()\n",
    "\n",
    "scores = cross_val_score(model,  \n",
    "                         count,  \n",
    "                         Category,  \n",
    "                         cv=StratifiedKFold(Category, n_folds=10),    \n",
    "                         scoring='f1_micro',  \n",
    "                         n_jobs=-1,\n",
    "                         )\n",
    "                         \n",
    "print (scores)\n",
    "\n",
    "print (scores.mean(), scores.std())"
   ]
  }
 ],
 "metadata": {
  "kernelspec": {
   "display_name": "Python 3",
   "language": "python",
   "name": "python3"
  },
  "language_info": {
   "codemirror_mode": {
    "name": "ipython",
    "version": 3
   },
   "file_extension": ".py",
   "mimetype": "text/x-python",
   "name": "python",
   "nbconvert_exporter": "python",
   "pygments_lexer": "ipython3",
   "version": "3.6.5"
  }
 },
 "nbformat": 4,
 "nbformat_minor": 2
}
